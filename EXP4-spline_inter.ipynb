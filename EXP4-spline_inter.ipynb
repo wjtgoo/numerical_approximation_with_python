{
 "cells": [
  {
   "cell_type": "code",
   "execution_count": 2,
   "id": "6517c098-4e04-46d3-881b-6d9719d69839",
   "metadata": {},
   "outputs": [],
   "source": [
    "import numpy as np\n",
    "import matplotlib.pyplot as plt"
   ]
  },
  {
   "cell_type": "code",
   "execution_count": 3,
   "id": "bf367884-9701-4e6e-a899-a96eba99d2be",
   "metadata": {},
   "outputs": [],
   "source": [
    "X = np.linspace(1,4,10)\n",
    "Y = np.exp(X)"
   ]
  },
  {
   "cell_type": "code",
   "execution_count": 15,
   "id": "1a429dfa-bd84-4ad4-b20e-9fe85248af9b",
   "metadata": {},
   "outputs": [
    {
     "data": {
      "text/plain": [
       "array([1.        , 1.33333333, 1.66666667, 2.        , 2.33333333,\n",
       "       2.66666667, 3.        , 3.33333333, 3.66666667, 4.        ])"
      ]
     },
     "execution_count": 15,
     "metadata": {},
     "output_type": "execute_result"
    }
   ],
   "source": [
    "X"
   ]
  },
  {
   "cell_type": "code",
   "execution_count": 4,
   "id": "8f087c72-3735-4598-8df8-c776b29753a5",
   "metadata": {},
   "outputs": [],
   "source": [
    "def H(X):\n",
    "    '''\n",
    "    计算h\n",
    "    '''\n",
    "    N = len(X)\n",
    "    h = np.array([])\n",
    "    for j in range(N-1):\n",
    "        h = np.append(h,(X[j+1]-X[j]))\n",
    "    return h"
   ]
  },
  {
   "cell_type": "code",
   "execution_count": 5,
   "id": "d8ad8922-6d22-4a00-814e-d51cef3ef75e",
   "metadata": {},
   "outputs": [],
   "source": [
    "def lamb(h):\n",
    "    '''\n",
    "    计算λ 1..N-1\n",
    "    '''\n",
    "    lam = np.array([])\n",
    "    N = len(h)\n",
    "    for j in range(N-1):\n",
    "        j = j+1\n",
    "        lam = np.append(lam,h[j]/(h[j-1]+h[j]))\n",
    "    return lam"
   ]
  },
  {
   "cell_type": "code",
   "execution_count": 6,
   "id": "2067c7af-01be-4014-9483-a96607a5c77d",
   "metadata": {},
   "outputs": [],
   "source": [
    "def mu_(lam):\n",
    "    '''\n",
    "    计算mu 1..N-1\n",
    "    '''\n",
    "    mu = 1-lam\n",
    "    return mu"
   ]
  },
  {
   "cell_type": "code",
   "execution_count": 16,
   "id": "a36dcd23-36be-40df-8256-7dbd6d6ab7a1",
   "metadata": {},
   "outputs": [],
   "source": [
    "def D(Y,h):\n",
    "    '''\n",
    "    计算d 1...N-1\n",
    "    '''\n",
    "    d = np.array([])\n",
    "    N = len(h)\n",
    "    for j in (np.arange(N-1)):\n",
    "        j = j+1\n",
    "        dd = 6*((Y[j+1]-Y[j])/h[j]-(Y[j]-Y[j-1])/h[j-1])/(h[j-1]+h[j])\n",
    "        d = np.append(d,dd)\n",
    "    return d"
   ]
  },
  {
   "cell_type": "code",
   "execution_count": 8,
   "id": "129947a5-fd11-4b96-afb6-1ff7693bd862",
   "metadata": {},
   "outputs": [],
   "source": [
    "def side_cond(Y,h,lam,mu,d,cond='one',dy0=None,dyN=None):\n",
    "    if cond=='one':        \n",
    "        ## 第一类边值条件\n",
    "        lam0 = 1\n",
    "        muN = 1\n",
    "        d0 = 6/h[0]*((Y[1]-Y[0])/h[0]-dy0)\n",
    "        dN = 6/h[-1]*(dyN-(Y[-1]-Y[-2])/h[-1])\n",
    "\n",
    "        lam = np.insert(lam,0,lam0)\n",
    "        mu = np.append(mu,muN)\n",
    "        d = np.insert(d,0,d0)\n",
    "        d = np.append(d,dN)\n",
    "    elif cond=='natural':\n",
    "        ## 自然边界条件\n",
    "        lam0 = 0\n",
    "        muN = 0\n",
    "        d0 = 0\n",
    "        dN = 0\n",
    "        lam = np.insert(lam,0,lam0)\n",
    "        mu = np.append(mu,muN)\n",
    "        d = np.insert(d,0,d0)\n",
    "        d = np.append(d,dN)\n",
    "    elif cond=='two':\n",
    "        ## 第二类边界条件\n",
    "        lam0 = 0\n",
    "        muN = 0\n",
    "        d0 = 2*dy0\n",
    "        dN = 2*dyN\n",
    "        lam = np.insert(lam,0,lam0)\n",
    "        mu = np.append(mu,muN)\n",
    "        d = np.insert(d,0,d0)\n",
    "        d = np.append(d,dN)\n",
    "    return h,lam,mu,d"
   ]
  },
  {
   "cell_type": "code",
   "execution_count": 9,
   "id": "94942e1e-8628-4c3c-a729-76ff7abac2e6",
   "metadata": {},
   "outputs": [],
   "source": [
    "def gen_matrics(lam,mu):\n",
    "    n = len(lam)\n",
    "    A = np.eye(n+1)*2\n",
    "    for i in range(n):\n",
    "        A[i,i+1] = lam[i]\n",
    "        A[i+1,i] = mu[i]\n",
    "    return A"
   ]
  },
  {
   "cell_type": "code",
   "execution_count": 10,
   "id": "c169e75d-1717-44c5-a860-15197bc09915",
   "metadata": {},
   "outputs": [],
   "source": [
    "def gen_M(A,d):\n",
    "    d = d.reshape(-1,1)\n",
    "    M = np.linalg.inv(A)@d\n",
    "    return M"
   ]
  },
  {
   "cell_type": "code",
   "execution_count": 11,
   "id": "0d274080-643d-4112-91c9-75cafb19ba77",
   "metadata": {},
   "outputs": [],
   "source": [
    "def three_simple(xs,X,Y,cond='natural',dy0=None,dyN=None):\n",
    "    low = np.argsort(X)\n",
    "    X = X[low]\n",
    "    Y = Y[low]\n",
    "    h = H(X)\n",
    "    lam = lamb(h)\n",
    "    mu = mu_(lam)\n",
    "    d = D(Y,h)\n",
    "    h,lam,mu,d = side_cond(Y,h,lam,mu,d,cond,dy0,dyN)\n",
    "    A = gen_matrics(lam,mu)\n",
    "    M = gen_M(A,d)\n",
    "    S = np.array([])\n",
    "    for x in xs:\n",
    "        for i,Xi in enumerate(X):\n",
    "            if x<Xi:\n",
    "                j = i\n",
    "                break\n",
    "        s = M[j-1]*(X[j]-x)**3/(6*h[j-1])+M[j]*(x-X[j-1])**3/(6*h[j-1])+\\\n",
    "        (Y[j-1]-M[j-1]*h[j-1]**2/6)*(X[j]-x)/h[j-1]+(Y[j]-M[j]*h[j-1]**2/6)*(x-X[j-1])/h[j-1]\n",
    "        S = np.append(S,s)\n",
    "    return S"
   ]
  },
  {
   "cell_type": "code",
   "execution_count": 24,
   "id": "a07484ef-60e5-429b-87f8-5634496c0c8d",
   "metadata": {},
   "outputs": [],
   "source": [
    "x = np.linspace(1,4,50)\n",
    "y = three_simple(x,X,Y,cond='natural',dy0=0,dyN=0)"
   ]
  },
  {
   "cell_type": "code",
   "execution_count": 25,
   "id": "0d98cbdb-9ea1-442a-ba69-b826ca8391fd",
   "metadata": {},
   "outputs": [
    {
     "data": {
      "image/png": "[encoded data removed]",
      "text/plain": [
       "<Figure size 432x288 with 1 Axes>"
      ]
     },
     "metadata": {
      "needs_background": "light"
     },
     "output_type": "display_data"
    }
   ],
   "source": [
    "plt.plot(x,y,label='Simple')\n",
    "plt.plot(x,np.exp(x),label='Origin')\n",
    "plt.legend(loc='best')\n",
    "plt.show()"
   ]
  },
  {
   "cell_type": "code",
   "execution_count": null,
   "id": "c3e8f911-dfa0-40ff-b782-ecb6c517726a",
   "metadata": {},
   "outputs": [],
   "source": []
  }
 ],
 "metadata": {
  "kernelspec": {
   "display_name": "Python 3 (ipykernel)",
   "language": "python",
   "name": "python3"
  },
  "language_info": {
   "codemirror_mode": {
    "name": "ipython",
    "version": 3
   },
   "file_extension": ".py",
   "mimetype": "text/x-python",
   "name": "python",
   "nbconvert_exporter": "python",
   "pygments_lexer": "ipython3",
   "version": "3.8.8"
  }
 },
 "nbformat": 4,
 "nbformat_minor": 5
}
