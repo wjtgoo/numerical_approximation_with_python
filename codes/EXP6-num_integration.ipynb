{
 "cells": [
  {
   "cell_type": "code",
   "execution_count": 134,
   "id": "58017644-5cb1-4d49-9980-409b3591955e",
   "metadata": {},
   "outputs": [],
   "source": [
    "import numpy as np"
   ]
  },
  {
   "cell_type": "markdown",
   "id": "7c0dc5f9-845f-4659-9a30-089aea88b800",
   "metadata": {},
   "source": [
    "# 数值积分"
   ]
  },
  {
   "cell_type": "markdown",
   "id": "0e453f5f-b3a5-4d5a-89c3-611562aa622e",
   "metadata": {},
   "source": [
    "被积函数：$f(x)=\\frac{1}{1+x^2}$<br>\n",
    "求积区间：$[-4,4]$<br>"
   ]
  },
  {
   "cell_type": "code",
   "execution_count": 135,
   "id": "73c3194d-5ca5-4e48-84af-58b38b387a00",
   "metadata": {},
   "outputs": [],
   "source": [
    "def f(x):\n",
    "    y = 1/(1+x**2)\n",
    "    return y"
   ]
  },
  {
   "cell_type": "markdown",
   "id": "c02ca3c7-d390-4ed0-93e3-56a79730e0dd",
   "metadata": {},
   "source": [
    "#### 1 梯形公式\n",
    "$I_1(f)=\\frac{1}{2}(b-a)(f(a)+f(b))$"
   ]
  },
  {
   "cell_type": "code",
   "execution_count": 136,
   "id": "e4107ecc-1f2f-480e-afee-f9d939e7e05d",
   "metadata": {},
   "outputs": [],
   "source": [
    "def trapezoid(fun,a,b):\n",
    "    return 1/2*(b-a)*(fun(a)+fun(b))"
   ]
  },
  {
   "cell_type": "code",
   "execution_count": 138,
   "id": "c1753bdc-cfc5-4490-ad60-c663a98e4940",
   "metadata": {},
   "outputs": [
    {
     "name": "stdout",
     "output_type": "stream",
     "text": [
      "梯形公式所计算出来的值为：0.470588\n"
     ]
    }
   ],
   "source": [
    "#test\n",
    "out = trapezoid(f,-4,4)\n",
    "print(\"梯形公式所计算出来的值为：%.6f\"%out)"
   ]
  },
  {
   "cell_type": "markdown",
   "id": "62be321a-462f-44c8-9189-033f055fd485",
   "metadata": {},
   "source": [
    "#### 2 Simpson公式\n",
    "$I_2(f)=\\frac{1}{3}h(f(a)+4f(b)+f(c))$"
   ]
  },
  {
   "cell_type": "code",
   "execution_count": 139,
   "id": "225de794-ddf3-4706-8541-3b915dd9818f",
   "metadata": {},
   "outputs": [],
   "source": [
    "def simposon(fun,a,b):\n",
    "    h = (b-a)/2\n",
    "    c = (a+b)/2\n",
    "    return 1/3*h*(fun(a)+4*fun(c)+fun(b))"
   ]
  },
  {
   "cell_type": "code",
   "execution_count": 140,
   "id": "eeeeaeba-61d4-4939-b86b-73c0e3d3b539",
   "metadata": {},
   "outputs": [
    {
     "name": "stdout",
     "output_type": "stream",
     "text": [
      "Simposon公式所计算出来的值为：5.490196\n"
     ]
    }
   ],
   "source": [
    "#test\n",
    "out = simposon(f,-4,4)\n",
    "print(\"Simposon公式所计算出来的值为：%.6f\"%out)"
   ]
  },
  {
   "cell_type": "markdown",
   "id": "f265ae50-a8fc-40e1-ac0a-235aa5fb1dd1",
   "metadata": {},
   "source": [
    "#### 3 n阶Newton-Cotes公式\n",
    "$I_n(f)=\\int_a^bp_n(x)\\,{\\rm{d}}x=\\sum_{j=0}^nA_jf(x_j)$<br>\n",
    "$A_j=\\int_{a}^{b}l_j(x)\\,{\\rm{d}}x$"
   ]
  },
  {
   "cell_type": "code",
   "execution_count": 141,
   "id": "b6431129-c6f3-4d19-ab71-f1af58fb1a3b",
   "metadata": {},
   "outputs": [],
   "source": [
    "# Lagrange插值\n",
    "def lagrange(X,Y):\n",
    "    \"\"\"\n",
    "    输入：插值点\n",
    "    输出：插值函数表达式\n",
    "    \"\"\"\n",
    "    x = sy.symbols('x')\n",
    "    if len(X) != len(Y):\n",
    "        raise ValueError(\"输入的插值节点X变量与Y变量长度不对应！\")\n",
    "    if type(x)==int:\n",
    "        x = [x]\n",
    "    Y = np.array(Y)\n",
    "    n = len(X)\n",
    "    # 定义l保存l_1,l_2,...l_n\n",
    "    y=0\n",
    "    for i in range(n):\n",
    "        l=1\n",
    "        for ii in range(n):\n",
    "            if i != ii:\n",
    "                l = l*(x-X[ii])/(X[i]-X[ii])\n",
    "        y = y+Y[i]*l\n",
    "        y = sy.simplify(y)\n",
    "    return y"
   ]
  },
  {
   "cell_type": "code",
   "execution_count": 142,
   "id": "e0ba87e1-c9ff-4cfe-b720-ef1fbf761b6b",
   "metadata": {},
   "outputs": [],
   "source": [
    "def NC(fun,a,b,n):\n",
    "    \"\"\"\n",
    "    Newton-Cotes公式\n",
    "    fun：被积函数\n",
    "    a,b：上下限\n",
    "    n：插值函数的次数\n",
    "    \n",
    "    return：被积函数值\n",
    "    \"\"\"\n",
    "    X = np.linspace(a,b,n+1)\n",
    "    Y = fun(X)\n",
    "    pn = lagrange(X,Y)\n",
    "    pn_int = sy.Integral(pn,x)\n",
    "    out = pn_int.subs(x,b)-pn_int.subs(x,a)\n",
    "    out = sy.simplify(out)\n",
    "    out = float(out)\n",
    "    return out"
   ]
  },
  {
   "cell_type": "code",
   "execution_count": 143,
   "id": "d0503cd4-f83e-477d-8b8e-d5a12392bea0",
   "metadata": {},
   "outputs": [],
   "source": [
    "## test\n",
    "nc2 = NC(f,-4,4,2)\n",
    "sim = simposon(f,-4,4)"
   ]
  },
  {
   "cell_type": "code",
   "execution_count": 144,
   "id": "926d57ee-9545-4166-a594-c684528a085f",
   "metadata": {},
   "outputs": [
    {
     "name": "stdout",
     "output_type": "stream",
     "text": [
      "2次Newton-Cotes公式:5.490196078431373\n",
      "Simpson公式:        5.490196078431372\n"
     ]
    }
   ],
   "source": [
    "print(\"2次Newton-Cotes公式:{}\".format(nc2))\n",
    "print(\"Simpson公式:        {}\".format(sim))"
   ]
  },
  {
   "cell_type": "code",
   "execution_count": 148,
   "id": "e63cdb09-ee64-4466-b7ec-0edb9bafb6d1",
   "metadata": {},
   "outputs": [
    {
     "name": "stdout",
     "output_type": "stream",
     "text": [
      "积分函数的真实值为：2.6516353273360647\n",
      "1次Newton-Cotes公式积分值:0.47058823529411764\n",
      "2次Newton-Cotes公式积分值:5.490196078431373\n",
      "3次Newton-Cotes公式积分值:2.277647058823529\n",
      "4次Newton-Cotes公式积分值:2.277647058823529\n",
      "5次Newton-Cotes公式积分值:2.372229249615856\n",
      "6次Newton-Cotes公式积分值:3.328798127470156\n",
      "7次Newton-Cotes公式积分值:2.7997007824976405\n",
      "8次Newton-Cotes公式积分值:1.9410943043884252\n",
      "9次Newton-Cotes公式积分值:2.430841156646758\n",
      "10次Newton-Cotes公式积分值:3.595560400191437\n"
     ]
    }
   ],
   "source": [
    "## test2\n",
    "import scipy.integrate as si\n",
    "real,_ = si.quad(f,-4,4)\n",
    "n=10\n",
    "print(\"积分函数的真实值为：{}\".format(real))\n",
    "for i in range(1,n+1):\n",
    "    nc = NC(f,-4,4,i)\n",
    "    print(\"{}次Newton-Cotes公式积分值:{}\".format(i,nc))"
   ]
  },
  {
   "cell_type": "markdown",
   "id": "9f8d0c65-856d-4a9f-9ae4-806cbb59a461",
   "metadata": {},
   "source": [
    "#### 3*为解决龙格现象，利用切比雪夫节点的n阶Newton-Cotes公式"
   ]
  },
  {
   "cell_type": "code",
   "execution_count": 154,
   "id": "924996f4-d406-49df-8381-e9916dad1711",
   "metadata": {},
   "outputs": [],
   "source": [
    "def chebP(a,b,N):\n",
    "    \"\"\"\n",
    "    切比雪夫节点产生器\n",
    "    a,b:取值范围\n",
    "    N: 个数\n",
    "    \"\"\"\n",
    "    t =  np.linspace(0,np.pi,N)\n",
    "    x = (b-a)/2*(np.cos(t)+1)+a\n",
    "    return x"
   ]
  },
  {
   "cell_type": "code",
   "execution_count": 155,
   "id": "3169bae2-ab99-4e41-ae9e-a3b97b2cfc7c",
   "metadata": {},
   "outputs": [
    {
     "data": {
      "text/plain": [
       "array([8.        , 7.81907786, 7.29813333, 6.5       , 5.52094453,\n",
       "       4.47905547, 3.5       , 2.70186667, 2.18092214, 2.        ])"
      ]
     },
     "execution_count": 155,
     "metadata": {},
     "output_type": "execute_result"
    }
   ],
   "source": [
    "#test\n",
    "chebP(2,8,10)"
   ]
  },
  {
   "cell_type": "code",
   "execution_count": 156,
   "id": "d8c2b673-cfdd-4770-86ef-0f322a0701d9",
   "metadata": {},
   "outputs": [],
   "source": [
    "def NC_cheb(fun,a,b,n):\n",
    "    \"\"\"\n",
    "    Newton-Cotes公式\n",
    "    fun：被积函数\n",
    "    a,b：上下限\n",
    "    n：插值函数的次数\n",
    "    \n",
    "    return：被积函数值\n",
    "    \"\"\"\n",
    "    X = chebP(a,b,n+1)\n",
    "    Y = fun(X)\n",
    "    pn = lagrange(X,Y)\n",
    "    pn_int = sy.Integral(pn,x)\n",
    "    out = pn_int.subs(x,b)-pn_int.subs(x,a)\n",
    "    out = sy.simplify(out)\n",
    "    out = float(out)\n",
    "    return out"
   ]
  },
  {
   "cell_type": "code",
   "execution_count": 157,
   "id": "8b2d64d9-c926-4f65-b263-e51699dc3c31",
   "metadata": {},
   "outputs": [
    {
     "name": "stdout",
     "output_type": "stream",
     "text": [
      "积分函数的真实值为：2.6516353273360647\n",
      "1次切比雪夫节点的Newton-Cotes公式积分值:0.47058823529411764\n",
      "2次切比雪夫节点的Newton-Cotes公式积分值:5.490196078431373\n",
      "3次切比雪夫节点的Newton-Cotes公式积分值:1.4745098039215692\n",
      "4次切比雪夫节点的Newton-Cotes公式积分值:3.705446623093682\n",
      "5次切比雪夫节点的Newton-Cotes公式积分值:2.166869506423258\n",
      "6次切比雪夫节点的Newton-Cotes公式积分值:2.9837017884076733\n",
      "7次切比雪夫节点的Newton-Cotes公式积分值:2.4602070662519226\n",
      "8次切比雪夫节点的Newton-Cotes公式积分值:2.7757812119556835\n",
      "9次切比雪夫节点的Newton-Cotes公式积分值:2.579664747157829\n",
      "10次切比雪夫节点的Newton-Cotes公式积分值:2.6958773072327338\n"
     ]
    }
   ],
   "source": [
    "## test\n",
    "import scipy.integrate as si\n",
    "real,_ = si.quad(f,-4,4)\n",
    "n=10\n",
    "print(\"积分函数的真实值为：{}\".format(real))\n",
    "for i in range(1,n+1):\n",
    "    nc = NC_cheb(f,-4,4,i)\n",
    "    print(\"{}次切比雪夫节点的Newton-Cotes公式积分值:{}\".format(i,nc))"
   ]
  },
  {
   "cell_type": "markdown",
   "id": "88bf49f1-6713-4d3e-8ad7-2aaa5589cd0b",
   "metadata": {},
   "source": [
    "#### 4 复化梯形公式\n",
    "$I_n(f)=h(\\frac{f_0}{2}+f_1+f_2+{\\cdots}+f_{n-1}+\\frac{f_n}{2})$"
   ]
  },
  {
   "cell_type": "code",
   "execution_count": 104,
   "id": "a253ec05-8c81-4af1-950f-a48f72e9af00",
   "metadata": {},
   "outputs": [],
   "source": [
    "def re_trapezoid(fun,a,b,n):\n",
    "    h = (b-a)/n\n",
    "    x = np.linspace(a,b,n)\n",
    "    y = fun(x)\n",
    "    return h*(sum(y)-1/2*y[0]-1/2*y[-1])"
   ]
  },
  {
   "cell_type": "code",
   "execution_count": 108,
   "id": "d0b0ff94-4850-475d-9e5a-232bf71b70b3",
   "metadata": {},
   "outputs": [
    {
     "data": {
      "text/plain": [
       "2.648983396442303"
      ]
     },
     "execution_count": 108,
     "metadata": {},
     "output_type": "execute_result"
    }
   ],
   "source": [
    "re_trapezoid(f,-4,4,1000)"
   ]
  },
  {
   "cell_type": "markdown",
   "id": "4cb549e5-d291-48bb-a719-7e011018420b",
   "metadata": {},
   "source": [
    "#### 5 复化Simposon公式\n",
    "$I_n(f)=\\sum_{j=1}^{m}\\frac{h}{3}(f_{2j-2}+4f_{2j-1}+f_{2j})$<br>"
   ]
  },
  {
   "cell_type": "code",
   "execution_count": 114,
   "id": "4631e90f-e2af-414f-8eb3-c945c91c9eed",
   "metadata": {},
   "outputs": [],
   "source": [
    "def re_simposon(fun,a,b,n):\n",
    "    if n%2 !=0:\n",
    "        print(\"n必须为偶数\")\n",
    "        return 0\n",
    "    h = (b-a)/n\n",
    "    m = int(n/2)\n",
    "    x = np.linspace(a,b,n+1)\n",
    "    y = fun(x)\n",
    "    I = 0\n",
    "    for j in range(m):\n",
    "        j = j+1\n",
    "        I=I+1/3*h*(y[2*j-2]+4*y[2*j-1]+y[2*j])\n",
    "    return I"
   ]
  },
  {
   "cell_type": "code",
   "execution_count": 117,
   "id": "3411037b-0923-4fc5-acd8-075ac8f8daa1",
   "metadata": {},
   "outputs": [
    {
     "data": {
      "text/plain": [
       "2.6516353273352773"
      ]
     },
     "execution_count": 117,
     "metadata": {},
     "output_type": "execute_result"
    }
   ],
   "source": [
    "re_simposon(f,-4,4,1000)"
   ]
  }
 ],
 "metadata": {
  "kernelspec": {
   "display_name": "Python 3 (ipykernel)",
   "language": "python",
   "name": "python3"
  },
  "language_info": {
   "codemirror_mode": {
    "name": "ipython",
    "version": 3
   },
   "file_extension": ".py",
   "mimetype": "text/x-python",
   "name": "python",
   "nbconvert_exporter": "python",
   "pygments_lexer": "ipython3",
   "version": "3.8.8"
  }
 },
 "nbformat": 4,
 "nbformat_minor": 5
}
