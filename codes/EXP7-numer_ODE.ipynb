{
 "cells": [
  {
   "cell_type": "code",
   "execution_count": 1,
   "id": "11664852-5115-45c9-9b80-34b259c9241d",
   "metadata": {
    "tags": []
   },
   "outputs": [],
   "source": [
    "import numpy as np"
   ]
  },
  {
   "cell_type": "markdown",
   "id": "4fa3be01-aa39-49c0-b49f-341cf4d00ef4",
   "metadata": {},
   "source": [
    "**方程**\n",
    "\n",
    "\n",
    "$\n",
    "\\left\\{\\begin{aligned}\n",
    "&\\frac{{\\rm d}y}{{\\rm d}x}=f(x,y)=y-\\frac{2x}{y}\\\\\n",
    "&y(0)=1\n",
    "\\end{aligned}\\right.\\quad \n",
    "$"
   ]
  },
  {
   "cell_type": "code",
   "execution_count": 3,
   "id": "667136df-22b9-41e3-8769-51364cdbc87e",
   "metadata": {
    "tags": []
   },
   "outputs": [],
   "source": [
    "def f(x,y):\n",
    "    return y-2*x/y"
   ]
  },
  {
   "cell_type": "markdown",
   "id": "5e962430-0021-40a4-bbd4-97289666bb05",
   "metadata": {},
   "source": [
    "**欧拉法**\n",
    "\n",
    "\n",
    "$\n",
    "\\left\\{\\begin{aligned}\n",
    "&y_{n+1}=y_n+hf(x_n,y_n)\\\\ \n",
    "&y(x_0)=y_0\n",
    "\\end{aligned}\\right.\\quad n=0,1,2,\\cdots\n",
    "$"
   ]
  },
  {
   "cell_type": "code",
   "execution_count": 2,
   "id": "4def61e2-ef6c-48da-8b82-2862f9a45b45",
   "metadata": {
    "tags": []
   },
   "outputs": [],
   "source": [
    "def euler(fun,y0,a,b,h):\n",
    "    n = int(np.ceil((b-a)/h))\n",
    "    y = np.zeros(n+1)\n",
    "    x = np.arange(a,b+0.1,0.1)\n",
    "    y[0] = y0\n",
    "    for i in range(n):\n",
    "        y[i+1] = y[i]+h*fun(x[i],y[i])\n",
    "    out = {'X':x,'Y':y}\n",
    "    return out"
   ]
  },
  {
   "cell_type": "code",
   "execution_count": 4,
   "id": "69b35789-4231-46b7-a7ad-1ad9106caeb3",
   "metadata": {
    "tags": []
   },
   "outputs": [
    {
     "data": {
      "text/plain": [
       "{'X': array([0. , 0.1, 0.2, 0.3, 0.4, 0.5, 0.6, 0.7, 0.8, 0.9, 1. ]),\n",
       " 'Y': array([1.        , 1.1       , 1.19181818, 1.27743783, 1.3582126 ,\n",
       "        1.43513292, 1.50896625, 1.58033824, 1.64978343, 1.71777935,\n",
       "        1.78477083])}"
      ]
     },
     "execution_count": 4,
     "metadata": {},
     "output_type": "execute_result"
    }
   ],
   "source": [
    "# test\n",
    "a = euler(f,1,0,1,0.1)\n",
    "a"
   ]
  },
  {
   "cell_type": "markdown",
   "id": "547bcc9a-c9e0-46bd-bd82-7de9554ea995",
   "metadata": {},
   "source": [
    "**隐式欧拉格式：**<br>\n",
    "欧拉格式是用差商的值来近似点$(x_n,y_n)$处的导数值，若用差商的值来近似点$(x_{n+1},y_{n+1})$处的导数值，则可以得到隐式欧拉格式\n",
    "$$\n",
    "\\left\\{\\begin{aligned}\n",
    "y_{n+1}&=y_n+hf(x_{n+1},y_{n+1})\\\\\n",
    "y(x_0)&=y_0\n",
    "\\end{aligned}\\right.\\quad n=0,1,2,\\cdots\n",
    "$$\n",
    "隐式欧拉格式只有在$f(x,y)$容易将两个参数分离的情况，才比较容易使用."
   ]
  },
  {
   "cell_type": "code",
   "execution_count": 6,
   "id": "3d537371-889f-4ece-9583-e83cea38588e",
   "metadata": {
    "tags": []
   },
   "outputs": [],
   "source": [
    "def hide_euler(fun,y0,a,b,h):\n",
    "    n = int(np.ceil((b-a)/h))+1\n",
    "    eu = euler(fun,y0,a,b,h)\n",
    "    y = eu['Y']\n",
    "    x = eu['X']\n",
    "    y_old = np.zeros(n)\n",
    "    times = 0\n",
    "    while(np.linalg.norm(y_old-y)>0.1 and times<500):\n",
    "        y_old = y.copy()\n",
    "        for i in range(n-1):\n",
    "            y[i+1] = y[i]+h*(fun(x[i+1],y[i+1]))\n",
    "        #print(np.linalg.norm(y_old-y))\n",
    "        times+=1\n",
    "    out = {'X':x,'Y':y}\n",
    "    return out"
   ]
  },
  {
   "cell_type": "code",
   "execution_count": 7,
   "id": "b0cc066b-4add-4925-8625-4e892ebeba3d",
   "metadata": {
    "tags": []
   },
   "outputs": [
    {
     "data": {
      "text/plain": [
       "{'X': array([0. , 0.1, 0.2, 0.3, 0.4, 0.5, 0.6, 0.7, 0.8, 0.9, 1. ]),\n",
       " 'Y': array([1.        , 1.09181818, 1.17743783, 1.2582126 , 1.33513292,\n",
       "        1.40896625, 1.48033824, 1.54978343, 1.61777935, 1.68477083,\n",
       "        1.75118871])}"
      ]
     },
     "execution_count": 7,
     "metadata": {},
     "output_type": "execute_result"
    }
   ],
   "source": [
    "# test\n",
    "ha = hide_euler(f,1,0,1,0.1)\n",
    "ha"
   ]
  },
  {
   "cell_type": "markdown",
   "id": "3674e0b3-f3bf-4bbf-b523-3daa4b7582f9",
   "metadata": {},
   "source": [
    "**梯形方法：**<br>\n",
    "为了得到更加准确的估计，可以考虑将欧拉格式和隐式欧拉格式取平均值，得到\n",
    "$$\n",
    "y_{n+1}=y_n+\\frac{h}{2}(f(x_n,y_n)+f(x_{n+1},y_{n+1}))\t\\tag{2-1}\n",
    "$$\n",
    "上述式子称为梯形公式，为了计算$y_{n+1}$常用以下迭代式\n",
    "$$\n",
    "\\left\\{\\begin{aligned}\n",
    "y_{n+1}^{(0)}&=y_n+hf(x_n,y_n)\\\\\n",
    "y_{n+1}^{(k+1)}&=y_n+\\frac{h}{2}(f(x_n,y_n)+f(x_{n+1},y_{n+1}^{(k)}))\n",
    "\\end{aligned}\\right.\\quad k=0,1,2,\\cdots\\tag{2-2}\n",
    "$$\n",
    "当$|y_{n+1}^{(k+1)}-y_{n+1}^{(k)}|<\\varepsilon$时，取$y_{n+1}\\approx y_{n+1}^{(k+1)}$."
   ]
  },
  {
   "cell_type": "code",
   "execution_count": 11,
   "id": "91ff5b1f-ee0d-4736-b142-a1f68bebc0c7",
   "metadata": {
    "tags": []
   },
   "outputs": [],
   "source": [
    "def trapezoid(fun,y0,a,b,h):\n",
    "    n = int(np.ceil((b-a)/h))+1\n",
    "    eu = euler(fun,y0,a,b,h)\n",
    "    y = eu['Y']\n",
    "    x = eu['X']\n",
    "    y_old = np.zeros(n)\n",
    "    times = 0\n",
    "    while(np.linalg.norm(y_old-y)>1 and times<100):\n",
    "        y_old = y.copy()\n",
    "        for i in range(n-1):\n",
    "            yy = y.copy()\n",
    "            y[i+1] = y[i]+(h/2)*(fun(x[i+1],y[i+1])+fun(x[i],yy[i]))\n",
    "        #print(np.linalg.norm(y_old-y))\n",
    "        times+=1\n",
    "    out = {'X':x,'Y':y}\n",
    "    return out"
   ]
  },
  {
   "cell_type": "code",
   "execution_count": 12,
   "id": "25892577-d23a-46f5-8901-72265a8b4dc7",
   "metadata": {
    "tags": []
   },
   "outputs": [
    {
     "data": {
      "text/plain": [
       "{'X': array([0. , 0.1, 0.2, 0.3, 0.4, 0.5, 0.6, 0.7, 0.8, 0.9, 1. ]),\n",
       " 'Y': array([1.        , 1.09590909, 1.18438953, 1.26711005, 1.34524979,\n",
       "        1.41969469, 1.49114658, 1.56018901, 1.62733006, 1.69303203,\n",
       "        1.7577335 ])}"
      ]
     },
     "execution_count": 12,
     "metadata": {},
     "output_type": "execute_result"
    }
   ],
   "source": [
    "# test\n",
    "at = trapezoid(f,1,0,1,0.1)\n",
    "at"
   ]
  },
  {
   "cell_type": "markdown",
   "id": "1137c910-3751-404b-b7c0-b5f80ae2ea61",
   "metadata": {},
   "source": [
    "**改进的Euler法**<br>\n",
    "$$\n",
    "y_{n+1}=y_n+\\frac{h}{2}(f(x_n,y_n)+f(x_n,y_n+hf(x_n,y_n))),\\quad n=0,1,\\ldots\\,.\n",
    "$$"
   ]
  },
  {
   "cell_type": "code",
   "execution_count": 13,
   "id": "7fe58766-6095-4fd8-a306-213db87e77ca",
   "metadata": {
    "tags": []
   },
   "outputs": [],
   "source": [
    "def euler_pro(fun,y0,a,b,h):\n",
    "    n = int(np.ceil((b-a)/h))+1\n",
    "    y = np.zeros(n)\n",
    "    x = np.arange(a,b+0.1,0.1)\n",
    "    y[0] = y0\n",
    "    for i in range(n-1):\n",
    "        y[i+1] = y[i]+(h/2)*(fun(x[i],y[i])+f(x[i+1],y[i]+h*f(x[i],y[i])))\n",
    "    out = {'X':x,'Y':y}\n",
    "    return out"
   ]
  },
  {
   "cell_type": "code",
   "execution_count": 14,
   "id": "f4b285a3-9e20-41af-b153-e07a85a0a4db",
   "metadata": {
    "tags": []
   },
   "outputs": [
    {
     "data": {
      "text/plain": [
       "{'X': array([0. , 0.1, 0.2, 0.3, 0.4, 0.5, 0.6, 0.7, 0.8, 0.9, 1. ]),\n",
       " 'Y': array([1.        , 1.09590909, 1.18409657, 1.26620136, 1.34336015,\n",
       "        1.41640193, 1.4859556 , 1.55251409, 1.61647478, 1.67816636,\n",
       "        1.7378674 ])}"
      ]
     },
     "execution_count": 14,
     "metadata": {},
     "output_type": "execute_result"
    }
   ],
   "source": [
    "# test\n",
    "apro = euler_pro(f,1,0,1,0.1)\n",
    "apro"
   ]
  },
  {
   "cell_type": "markdown",
   "id": "99c0fdc4-ee9d-4848-a42c-882f9c29c990",
   "metadata": {},
   "source": [
    "**龙格库塔方法**<br>\n"
   ]
  },
  {
   "cell_type": "markdown",
   "id": "db789ba7-72dc-4345-a4a5-2bbf56cc5fa1",
   "metadata": {},
   "source": [
    "**二级龙格库塔方法**<br>\n",
    "$$\n",
    "y_{n+1}=y_n+h{\\alpha_1k_1}+h{\\alpha_2k_2}\\\\\n",
    "k_1=f(x_n,y_n)\\\\\n",
    "k_2=f(x_n+h\\lambda_2,y_n+h\\mu_2k_1)\\\\\n",
    "$$"
   ]
  },
  {
   "cell_type": "code",
   "execution_count": 15,
   "id": "4a9164b7-e28a-412d-915b-7126753b5fdc",
   "metadata": {
    "tags": []
   },
   "outputs": [],
   "source": [
    "def runge_kutta2(fun,y0,a,b,h,alpha1,alpha2,lambda2,mu2):\n",
    "    if alpha1+alpha2!=1 or alpha2*lambda2!=1/2 or alpha2*mu2!=1/2:\n",
    "        print('不满足条件')\n",
    "        return 0\n",
    "    n = int(np.ceil((b-a)/h))+1\n",
    "    y = np.zeros(n)\n",
    "    x = np.arange(a,b+0.1,0.1)\n",
    "    y[0] = y0\n",
    "    for i in range(n-1):\n",
    "        k1=fun(x[i],y[i])\n",
    "        k2=fun(x[i]+h*lambda2,y[i]+h*mu2*k1)\n",
    "        y[i+1] = y[i]+h*alpha1*k1+h*alpha2*k2\n",
    "    out = {'X':x,'Y':y}\n",
    "    return out"
   ]
  },
  {
   "cell_type": "code",
   "execution_count": 16,
   "id": "0f1e38bb-7f89-46b1-a793-e8a89f087171",
   "metadata": {
    "tags": []
   },
   "outputs": [
    {
     "data": {
      "text/plain": [
       "{'X': array([0. , 0.1, 0.2, 0.3, 0.4, 0.5, 0.6, 0.7, 0.8, 0.9, 1. ]),\n",
       " 'Y': array([1.        , 1.09590909, 1.18409657, 1.26620136, 1.34336015,\n",
       "        1.41640193, 1.4859556 , 1.55251409, 1.61647478, 1.67816636,\n",
       "        1.7378674 ])}"
      ]
     },
     "execution_count": 16,
     "metadata": {},
     "output_type": "execute_result"
    }
   ],
   "source": [
    "# test\n",
    "# 1 alpha1=0,alpha2=1,lambda2=mu2=1/2\n",
    "ark1 = runge_kutta2(f,1,0,1,0.1,0,1,1/2,1/2)\n",
    "ark1\n",
    "# 1 alpha1=1/2,alpha2=1/2,lambda2=mu2=1\n",
    "ark2 = runge_kutta2(f,1,0,1,0.1,1/2,1/2,1,1)\n",
    "ark2"
   ]
  },
  {
   "cell_type": "markdown",
   "id": "bba850fb-9c73-47df-a3e5-fd3cc4ac0ad8",
   "metadata": {},
   "source": [
    "**四级龙格库塔方法**<br>\n",
    "$$\n",
    "y_{n+1}=y_n+\\frac{h}{6}(k_1+2k_2+2k_3+k_4)\\\\\n",
    "k_1=f(x_n,y_n)\\\\\n",
    "k_2=f(x_n+\\frac{h}{2},y_n+\\frac{h}{2}k_1)\\\\\n",
    "k_3=f(x_n+\\frac{h}{2},y_n+\\frac{h}{2}k_2)\\\\\n",
    "k_4=f(x_n+h,y_n+hk_3)\n",
    "$$"
   ]
  },
  {
   "cell_type": "code",
   "execution_count": 17,
   "id": "aa11ed69-e106-427d-8eb1-5f99f4eb5a75",
   "metadata": {
    "tags": []
   },
   "outputs": [],
   "source": [
    "def runge_kutta4(fun,y0,a,b,h):\n",
    "    n = int(np.ceil((b-a)/h))+1\n",
    "    y = np.zeros(n)\n",
    "    x = np.arange(a,b+0.1,0.1)\n",
    "    y[0] = y0\n",
    "    for i in range(n-1):\n",
    "        k1=fun(x[i],y[i])\n",
    "        k2=fun(x[i]+h/2,y[i]+h*k1/2)\n",
    "        k3=fun(x[i]+h/2,y[i]+h*k2/2)\n",
    "        k4=fun(x[i]+h,y[i]+h*k3)\n",
    "        y[i+1] = y[i]+h*(k1+2*k2+2*k3+k4)/6\n",
    "    out = {'X':x,'Y':y}\n",
    "    return out"
   ]
  },
  {
   "cell_type": "code",
   "execution_count": 18,
   "id": "6aa5ca39-fdf0-497d-9a6e-77ea22ba56e2",
   "metadata": {
    "tags": []
   },
   "outputs": [
    {
     "data": {
      "text/plain": [
       "{'X': array([0. , 0.1, 0.2, 0.3, 0.4, 0.5, 0.6, 0.7, 0.8, 0.9, 1. ]),\n",
       " 'Y': array([1.        , 1.09544553, 1.18321675, 1.26491223, 1.34164235,\n",
       "        1.41421558, 1.48324222, 1.54919645, 1.61245535, 1.67332466,\n",
       "        1.73205637])}"
      ]
     },
     "execution_count": 18,
     "metadata": {},
     "output_type": "execute_result"
    }
   ],
   "source": [
    "# test\n",
    "ark4 = runge_kutta4(f,1,0,1,0.1)\n",
    "ark4"
   ]
  },
  {
   "cell_type": "markdown",
   "id": "e5be49cb-66da-4360-97b0-91022cb1d9f9",
   "metadata": {},
   "source": [
    "#### Display"
   ]
  },
  {
   "cell_type": "code",
   "execution_count": 19,
   "id": "8ade2a88-49ef-4796-9ff3-ef1fc9f9cf6d",
   "metadata": {
    "tags": []
   },
   "outputs": [
    {
     "data": {
      "image/png": "[encoded data removed]",
      "text/plain": [
       "<Figure size 432x288 with 1 Axes>"
      ]
     },
     "metadata": {
      "needs_background": "light"
     },
     "output_type": "display_data"
    }
   ],
   "source": [
    "import matplotlib.pyplot as plt \n",
    "from scipy.integrate import odeint\n",
    "a = euler(f,1,0,1,0.1)\n",
    "ha = hide_euler(f,1,0,1,0.1)\n",
    "at = trapezoid(f,1,0,1,0.1)\n",
    "apro = euler_pro(f,1,0,1,0.1)\n",
    "ark2 = runge_kutta2(f,1,0,1,0.1,0,1,1/2,1/2)\n",
    "ark4 = runge_kutta4(f,1,0,1,0.1)\n",
    "# real\n",
    "def real(x):\n",
    "    return np.sqrt(2*x + 1)\n",
    "\n",
    "plt.plot(a['X'],a['Y'],label='euler')\n",
    "plt.plot(ha['X'],ha['Y'],label='h_euler')\n",
    "plt.plot(at['X'],at['Y'],label='trapez')\n",
    "plt.plot(apro['X'],apro['Y'],label='euler_pro')\n",
    "plt.plot(ark2['X'],ark2['Y'],label='rungek2')\n",
    "plt.plot(ark4['X'],ark4['Y'],label='rungek4')\n",
    "plt.plot(np.arange(0,1+0.1,0.1),real(np.arange(0,1+0.1,0.1)),label='real')\n",
    "plt.legend(loc='best')\n",
    "\n",
    "plt.show()"
   ]
  },
  {
   "cell_type": "code",
   "execution_count": 20,
   "id": "b2686102-ce93-4ede-97f8-b1d97e0ed928",
   "metadata": {
    "tags": []
   },
   "outputs": [
    {
     "name": "stdout",
     "output_type": "stream",
     "text": [
      "[Eq(y(x), -sqrt(C1*exp(2*x) + 2*x + 1)), Eq(y(x), sqrt(C1*exp(2*x) + 2*x + 1))]\n"
     ]
    }
   ],
   "source": [
    "from sympy import *\n",
    "\n",
    "x = Symbol('x')\n",
    "\n",
    "k = Symbol('k')\n",
    "\n",
    "y = Function('y')\n",
    "\n",
    "g = diff(y(x),x) - y(x)+2*x/y(x)\n",
    "\n",
    "print(dsolve(g, y(x)))"
   ]
  },
  {
   "cell_type": "code",
   "execution_count": null,
   "id": "4071ed8c-632b-404c-b66c-94f9be29c776",
   "metadata": {},
   "outputs": [],
   "source": []
  }
 ],
 "metadata": {
  "kernelspec": {
   "display_name": "Python 3 (ipykernel)",
   "language": "python",
   "name": "python3"
  },
  "language_info": {
   "codemirror_mode": {
    "name": "ipython",
    "version": 3
   },
   "file_extension": ".py",
   "mimetype": "text/x-python",
   "name": "python",
   "nbconvert_exporter": "python",
   "pygments_lexer": "ipython3",
   "version": "3.8.8"
  }
 },
 "nbformat": 4,
 "nbformat_minor": 5
}
